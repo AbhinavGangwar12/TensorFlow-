{
 "cells": [
  {
   "cell_type": "code",
   "execution_count": 2,
   "metadata": {},
   "outputs": [],
   "source": [
    "import tensorflow as tf"
   ]
  },
  {
   "cell_type": "markdown",
   "metadata": {},
   "source": [
    "tf.constant: This function creates a tensor that holds constant values. You pass it a value, like a number or a list, and TensorFlow makes it into a tensor."
   ]
  },
  {
   "cell_type": "code",
   "execution_count": 6,
   "metadata": {},
   "outputs": [
    {
     "name": "stdout",
     "output_type": "stream",
     "text": [
      "Scalar : 5\n",
      "vector : [1 2 3 4]\n",
      "matrix : [[1 2 4 5]\n",
      " [5 2 5 2]]\n"
     ]
    }
   ],
   "source": [
    "# creating tensors \n",
    "scalar = tf.constant(5)\n",
    "vector = tf.constant([1,2,3,4])\n",
    "matrix = tf.constant([[1,2,4,5],[5,2,5,2]])\n",
    "print(f\"Scalar : {scalar}\")\n",
    "print(f\"vector : {vector}\")\n",
    "print(f\"matrix : {matrix}\")"
   ]
  },
  {
   "cell_type": "code",
   "execution_count": 9,
   "metadata": {},
   "outputs": [
    {
     "name": "stdout",
     "output_type": "stream",
     "text": [
      "[[1 2 3]\n",
      " [4 5 6]\n",
      " [7 8 9]] + 10 = [[11 12 13]\n",
      " [14 15 16]\n",
      " [17 18 19]]\n",
      "[[1 2 3]\n",
      " [4 5 6]\n",
      " [7 8 9]] * [[1 2 3]\n",
      " [4 5 6]\n",
      " [7 8 9]] = [[ 30  36  42]\n",
      " [ 66  81  96]\n",
      " [102 126 150]]\n"
     ]
    }
   ],
   "source": [
    "matrix = tf.constant([[1,2,3],[4,5,6],[7,8,9]])\n",
    "print(f\"{matrix} + 10 = {tf.add(matrix,10)}\")\n",
    "matrix1 = tf.constant([[1,2,3],[4,5,6],[7,8,9]])\n",
    "print(f\"{matrix} * {matrix1} = {tf.matmul(matrix,matrix1)}\")"
   ]
  }
 ],
 "metadata": {
  "kernelspec": {
   "display_name": "Python 3",
   "language": "python",
   "name": "python3"
  },
  "language_info": {
   "codemirror_mode": {
    "name": "ipython",
    "version": 3
   },
   "file_extension": ".py",
   "mimetype": "text/x-python",
   "name": "python",
   "nbconvert_exporter": "python",
   "pygments_lexer": "ipython3",
   "version": "3.12.1"
  },
  "orig_nbformat": 4
 },
 "nbformat": 4,
 "nbformat_minor": 2
}
